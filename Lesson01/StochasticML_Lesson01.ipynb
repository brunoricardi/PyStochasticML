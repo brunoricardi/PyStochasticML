{
 "cells": [
  {
   "cell_type": "markdown",
   "metadata": {},
   "source": [
    "# Lesson #01 - Bayesian concept learning\n",
    "\n",
    "This notebook explores **Bayesian concept learning**. It is strongly based on Ref. *Machine Learning : A Probabilistic Perspective*, by Kevin P. Murphy, 2012, ISBN 978-0-262-01802-9, pp. 65-71.\n",
    "\n",
    "It was written by Bruno Abreu: https://sites.google.com/view/brunoabreu/home\n",
    "\n",
    "Last time this notebook was updated was on: 07-23-2020.\n",
    "\n",
    "Please, feel free to explore it. The author appreciates being credited."
   ]
  },
  {
   "cell_type": "markdown",
   "metadata": {},
   "source": [
    "## Introduction\n",
    "\n",
    "A good example of concept learning is how we human beings learn language when we are children. It is scientifically known that it happens by positive learning. Consider the word \"dog\". The way we associate the animal that we see to this word is by being told that, when we face an instance of such animal, we are seing a dog. Usually this is done by parents: \"this is a dog\", or \"look at the dog\". It is intuitive to notice that negative learning, even though can bring information, is not as effective to learn a certain concept. Being told that \"this is not a dog\" when we see a cat is not very helpful when we are children. \n",
    "\n",
    "In a more general framework, we think of input data $x$ to which is associated an output, or feature $y$. This association is potentially modeled via a set of parameters $\\theta$. There are two questions that we could be interested in. The first one is: given some new data $\\tilde{x}$, what is the probability that it has feature $y = c$ once we have somehow derived the parameters $\\theta$? This would be encoded in the probability distribution $p(y = c | x, \\theta)$. The second, which is going to be important to us here, is: what type of input $x$ gives us a certain output $y = c$? This is the inverse conditional probability which, by Bayes rule, is given by\n",
    "\n",
    "$p(y = c | x,\\theta) \\propto p(x | y=c,\\theta) p(y=c,\\theta)$\n",
    "\n",
    "In the case of concept learning, what we have is a certain concept $C$ and an associated probability distribution $f$ such that $f(x) = 1$ if $x \\in C$ and zero otherwise. We are then interested in learning $f$ for a certain $C$ that we don't necessarily know."
   ]
  },
  {
   "cell_type": "markdown",
   "metadata": {},
   "source": [
    "## The game\n",
    "Consider a simple arithmetical concept $C$, such as \"prime numbers\". We draw a series $D$ of randomly chosen numbers from $C$. Given $D$, we would like to classify a new number $\\tilde{x}$, *viz.* does it belong to $C$ or not? More generally, what is the **posterior probability distribution** $p(\\tilde{x} | D)$?  \n",
    "\n",
    "### Examples\n",
    "Suppose we do just one draw and I tell you that $D = \\{16\\}$. You could imagine that choices like 17, 32 or 6 -- numbers that are somewhat related to 16 -- are more likely to meet the concept $C$ that we are trying to learn, but at this point the probability distribution should be quite spread all over the possible inputs.\n",
    "\n",
    "Conversely, if I make three more draws and tell you that $D = \\{16, 8, 2, 32\\}$, you could, by **induction**, say that $C$ is the set of numbers that are \"powers of two\", which would lead to a quite more structured distribution."
   ]
  },
  {
   "cell_type": "markdown",
   "metadata": {},
   "source": [
    "## Theory\n",
    "\n",
    "### Relevant spaces\n",
    "Let's keep going with the previous example to better define our framework. The \"powers of two\" concept is one of the possibilities that could represent $C$. But there might be many others! All of them live in the **hypothesis space** $H$. For instance, if $h = \\text{odd numbers}$, then $h \\in H$. However, a lot of possibilities that leave in $H$ may not be consistent with our observation $D$. For instance, if again $D = \\{16\\}$, then $h = \\text{odd numbers}$ is definitely wrong! We then define the subspace of possibilities that are consistent with observations as the **version space**.\n",
    "\n",
    "One problem now is that, for a certain observation, multiple possibilities in the version space can be consistent. For instance, for $D = \\{16\\}$, $h_1 = \\text{powers of 2}$ and $h_2 = \\text{even numbers}$ are both valid. How do we decide?\n",
    "\n",
    "### Occam's razor\n",
    "To decide, we could use a certain degree of knowledge. Consider the larger observation $D = \\{16, 8, 2, 32\\}$. If the true concept was $h_2$, how come we only observed numbers that are described by $h_1$? We want to avoid this **suspicious coincidence**.\n",
    "\n",
    "To further develop this idea, we define the **extension** of a concept $h$ as all the instances of $h$ over the interval that is relevant to the problem. For simplicity, let us assume now that we are concerned about integer numbers between 1 and 100. The extension of $h_2$ would then be $\\{2, 4, 6, 8, ..., 98, 100\\}$.  \n",
    "\n",
    "We will be assuming that the examples that are drawn to create $D$ are sampled uniformly at random from the extension of the true concept $C$. This is called a **strong sampling assumption**.\n",
    "\n",
    "The probability of independently sampling $N$ items, with replacement, from a certain $h$ is \n",
    "\n",
    "$p(D | h) = \\left[\\frac{1}{\\text{size}(h)}\\right]^N$.\n",
    "\n",
    "This shows exactly that what we are modeling favors the simplest, or smallest hypothesis that is consistent with the data. This is often refered to as **Occam's razor**, or the **size principle**. \n",
    "\n",
    "### Likelihood\n",
    "To illustrate it, notice that in the case of $D = \\{16\\}$, we have $p(D | h_1) = 1/6$ and $p(D | h_2) = 1/50$. After the other 3 draws that give $D = \\{16, 8, 2, 32\\}$, we have a **likelihood** ratio of almost 5000:1 in favor of $h_1$. \n",
    "\n",
    "\n",
    "### Priors\n",
    "Suppose again that $D = \\{16, 8, 2, 32\\}$. As far as we are concerned about the likelihood, $h_3 = \\text{powers of 2 except 32}$ is even more likely than $h_1$! However, it seems *conceptually unnatural*. This can be captured by assigning a low **prior probability** to such unnatural concepts, and that is how background knowledge and subjectiveness can be brought into the problem (recall we are working with Bayesian probabilities).\n",
    "\n",
    "\n",
    "### Posteriors\n",
    "The *a posteriori* probability, which is the one that we get after obtaining the information brought by $D$, is, by Bayes rule, the likelihood times the prior, normalized:\n",
    "\n",
    "$p(h | D) = \\frac{p(D | h) p(h)}{\\sum_{h'\\in H} p(D,h')}$,\n",
    "\n",
    "and notice that \n",
    "\n",
    "$p(D|h) = \\mathbb{I}(D \\in h) / |h|^N$,\n",
    "\n",
    "where $\\mathbb{I}(D \\in h)$ is 1 if, and only if, all of the data is in the extension of hypothesis $h$ and $|h|$ is the size of $h$.\n",
    "\n",
    "### Posterior predictive distribution\n",
    "The posterior is an internal **belief state** about the world. In order to test if these beliefs are justified, we can use them to predict objectively observable quantities. The **posterior predictive distribution** in this context is then \n",
    "\n",
    "$ p(\\tilde{x} \\in C | D) = \\sum_h p(y=1 | \\tilde{x}, h) p(h|D) $,\n",
    "\n",
    "which is a wighted average of the predictions of each individual hypothesis, called a **Bayes model averaging**."
   ]
  },
  {
   "cell_type": "markdown",
   "metadata": {},
   "source": [
    "# Cooking things down to code\n",
    "\n",
    "We start by creating our **Hypothesis Space** and attributing values to their **priors**."
   ]
  },
  {
   "cell_type": "code",
   "execution_count": 1,
   "metadata": {},
   "outputs": [],
   "source": [
    "import numpy as np\n",
    "import matplotlib.pyplot as plt"
   ]
  },
  {
   "cell_type": "code",
   "execution_count": 42,
   "metadata": {},
   "outputs": [],
   "source": [
    "hypothesis_space = ['evens','odds','squares','primes', \n",
    "                    'multiples of 2', 'multiples of 3', 'multiples of 4',\n",
    "                    'multiples of 5', 'multiples of 6', 'multiples of 7',\n",
    "                    'multiples of 8', 'multiples of 9', 'multiples of 10',\n",
    "                    'ends in 1', 'ends in 2', 'ends in 3', 'ends in 4',\n",
    "                    'ends in 5', 'ends in 6', 'ends in 7', 'ends in 8',\n",
    "                    'ends in 9',\n",
    "                    'powers of 2', 'powers of 3', 'powers of 4', 'powers of 5',\n",
    "                    'powers of 6', 'powers of 7', 'powers of 8', 'powers of 9',\n",
    "                    'powers of 10',\n",
    "                    'all numbers',\n",
    "                    'powers of 2 + {37}', 'powers of 2 - {32}']"
   ]
  },
  {
   "cell_type": "code",
   "execution_count": 43,
   "metadata": {},
   "outputs": [],
   "source": [
    "priors = [4, 4, 1, 1,\n",
    "          1, 1, 1,\n",
    "          1, 1, 1,\n",
    "          1, 1, 1,\n",
    "          1, 1, 1, 1,\n",
    "          1, 1, 1, 1,\n",
    "          1,\n",
    "          1, 1, 1, 1,\n",
    "          1, 1, 1, 1,\n",
    "          1,\n",
    "          1,\n",
    "          0, 0]\n",
    "\n",
    "## we want this to be a probability, so we normalize it\n",
    "norm = np.sum(np.array(priors))\n",
    "priors = list(priors / norm)"
   ]
  },
  {
   "cell_type": "code",
   "execution_count": 44,
   "metadata": {},
   "outputs": [
    {
     "data": {
      "text/plain": [
       "(array([0.  , 0.02, 0.04, 0.06, 0.08, 0.1 , 0.12]),\n",
       " <a list of 7 Text yticklabel objects>)"
      ]
     },
     "execution_count": 44,
     "metadata": {},
     "output_type": "execute_result"
    },
    {
     "data": {
      "image/png": "[encoded data removed]",
      "text/plain": [
       "<Figure size 432x288 with 1 Axes>"
      ]
     },
     "metadata": {
      "needs_background": "light"
     },
     "output_type": "display_data"
    }
   ],
   "source": [
    "plt.bar(hypothesis_space,priors,color='red')\n",
    "plt.xlabel('Concept',fontsize=16)\n",
    "plt.ylabel('Prior probability',fontsize=16)\n",
    "plt.xticks(rotation=90,fontsize=11)\n",
    "plt.yticks(fontsize=12)"
   ]
  },
  {
   "cell_type": "markdown",
   "metadata": {},
   "source": [
    "Before we make an observation, we need to expand each of these concepts.\n",
    "This means defining an interval of interest, which in this case is from 0 to 100, and obtaining the corresponding elements of each concept."
   ]
  },
  {
   "cell_type": "code",
   "execution_count": 45,
   "metadata": {},
   "outputs": [],
   "source": [
    "interval_of_interest = np.arange(0,101,1)\n",
    "extensions = []\n",
    "\n",
    "# even numbers\n",
    "extension = list(np.arange(0,101,2))\n",
    "extensions.append(extension)\n",
    "        \n",
    "# odd numbers\n",
    "extension = list(np.arange(1,100,2))\n",
    "extensions.append(extension)\n",
    "\n",
    "# squares\n",
    "extension = np.arange(0,11,1)\n",
    "extension = list(np.square(extension))\n",
    "extensions.append(extension)\n",
    "\n",
    "# primes\n",
    "extension = []\n",
    "for possiblePrime in range(2,101):\n",
    "    isPrime = True\n",
    "    for num in range(2, int(possiblePrime ** 0.5) + 1):\n",
    "        if possiblePrime % num == 0:\n",
    "            isPrime = False\n",
    "            break\n",
    "    if isPrime:\n",
    "        extension.append(possiblePrime)\n",
    "extensions.append(extension)\n",
    "\n",
    "# multiples of 2\n",
    "extension = np.arange(0,51,1)\n",
    "extension = list(extension*2)\n",
    "extensions.append(extension)\n",
    "\n",
    "# multiples of 3\n",
    "extension = np.arange(0,34,1)\n",
    "extension = list(extension*3)\n",
    "extensions.append(extension)\n",
    "\n",
    "# multiples of 4\n",
    "extension = np.arange(0,26,1)\n",
    "extension = list(extension*4)\n",
    "extensions.append(extension)\n",
    "\n",
    "# multiples of 5\n",
    "extension = np.arange(0,21,1)\n",
    "extension = list(extension*5)\n",
    "extensions.append(extension)\n",
    "\n",
    "# multiples of 6\n",
    "extension = np.arange(0,17,1)\n",
    "extension = list(extension*6)\n",
    "extensions.append(extension)\n",
    "\n",
    "# multiples of 7\n",
    "extension = np.arange(0,15,1)\n",
    "extension = list(extension*7)\n",
    "extensions.append(extension)\n",
    "\n",
    "# multiples of 8\n",
    "extension = np.arange(0,13,1)\n",
    "extension = list(extension*8)\n",
    "extensions.append(extension)\n",
    "\n",
    "# multiples of 9\n",
    "extension = np.arange(0,12,1)\n",
    "extension = list(extension*9)\n",
    "extensions.append(extension)\n",
    "\n",
    "# multiples of 10\n",
    "extension = np.arange(0,11,1)\n",
    "extension = list(extension*10)\n",
    "extensions.append(extension)\n",
    "\n",
    "# ends in 1\n",
    "mults_of_ten = np.arange(0,100,10)\n",
    "extension = list(mults_of_ten + 1)\n",
    "extensions.append(extension)\n",
    "\n",
    "# ends in 2\n",
    "extension = list(mults_of_ten + 2)\n",
    "extensions.append(extension)\n",
    "\n",
    "# ends in 3\n",
    "extension = list(mults_of_ten + 3)\n",
    "extensions.append(extension)\n",
    "\n",
    "# ends in 4\n",
    "extension = list(mults_of_ten + 4)\n",
    "extensions.append(extension)\n",
    "\n",
    "# ends in 5\n",
    "extension = list(mults_of_ten + 5)\n",
    "extensions.append(extension)\n",
    "\n",
    "# ends in 6\n",
    "extension = list(mults_of_ten + 6)\n",
    "extensions.append(extension)\n",
    "\n",
    "# ends in 7\n",
    "extension = list(mults_of_ten + 7)\n",
    "extensions.append(extension)\n",
    "\n",
    "# ends in 8\n",
    "extension = list(mults_of_ten + 8)\n",
    "extensions.append(extension)\n",
    "\n",
    "# ends in 9\n",
    "extension = list(mults_of_ten + 9)\n",
    "extensions.append(extension)\n",
    "\n",
    "# powers of 2\n",
    "extension = [1]\n",
    "x = 1\n",
    "for number in range(10):\n",
    "    x = x*2\n",
    "    if x <= 100:\n",
    "        extension.append(x)\n",
    "    else: \n",
    "        break\n",
    "extensions.append(extension)\n",
    "\n",
    "# powers of 3\n",
    "extension = [1]\n",
    "x = 1\n",
    "for number in range(10):\n",
    "    x = x*3\n",
    "    if x <= 100:\n",
    "        extension.append(x)\n",
    "    else: \n",
    "        break\n",
    "extensions.append(extension)\n",
    "\n",
    "# powers of 4\n",
    "extension = [1]\n",
    "x = 1\n",
    "for number in range(10):\n",
    "    x = x*4\n",
    "    if x <= 100:\n",
    "        extension.append(x)\n",
    "    else: \n",
    "        break\n",
    "extensions.append(extension)\n",
    "\n",
    "# powers of 5\n",
    "extension = [1]\n",
    "x = 1\n",
    "for number in range(10):\n",
    "    x = x*5\n",
    "    if x <= 100:\n",
    "        extension.append(x)\n",
    "    else: \n",
    "        break\n",
    "extensions.append(extension)\n",
    "\n",
    "# powers of 6\n",
    "extension = [1]\n",
    "x = 1\n",
    "for number in range(10):\n",
    "    x = x*6\n",
    "    if x <= 100:\n",
    "        extension.append(x)\n",
    "    else: \n",
    "        break\n",
    "extensions.append(extension)\n",
    "\n",
    "# powers of 7\n",
    "extension = [1]\n",
    "x = 1\n",
    "for number in range(10):\n",
    "    x = x*7\n",
    "    if x <= 100:\n",
    "        extension.append(x)\n",
    "    else: \n",
    "        break\n",
    "extensions.append(extension)\n",
    "\n",
    "# powers of 8\n",
    "extension = [1]\n",
    "x = 1\n",
    "for number in range(10):\n",
    "    x = x*8\n",
    "    if x <= 100:\n",
    "        extension.append(x)\n",
    "    else: \n",
    "        break\n",
    "extensions.append(extension)\n",
    "\n",
    "# powers of 9\n",
    "extension = [1]\n",
    "x = 1\n",
    "for number in range(10):\n",
    "    x = x*9\n",
    "    if x <= 100:\n",
    "        extension.append(x)\n",
    "    else: \n",
    "        break\n",
    "extensions.append(extension)\n",
    "\n",
    "# powers of 10\n",
    "extension = [1]\n",
    "x = 1\n",
    "for number in range(10):\n",
    "    x = x*10\n",
    "    if x <= 100:\n",
    "        extension.append(x)\n",
    "    else: \n",
    "        break\n",
    "extensions.append(extension)\n",
    "\n",
    "# all numbers\n",
    "extensions.append(list(interval_of_interest))\n",
    "\n",
    "# powers of 2 + {37}\n",
    "extension = [1]\n",
    "x = 1\n",
    "for number in range(10):\n",
    "    x = x*2\n",
    "    if x <= 100:\n",
    "        extension.append(x)\n",
    "    else: \n",
    "        break\n",
    "extension.append(37)\n",
    "extensions.append(extension)\n",
    "\n",
    "# powers of 2 - {32}\n",
    "extension = [1]\n",
    "x = 1\n",
    "for number in range(10):\n",
    "    x = x*2\n",
    "    if x <= 100:\n",
    "        extension.append(x)\n",
    "    else: \n",
    "        break\n",
    "extension.remove(32)\n",
    "extensions.append(extension)"
   ]
  },
  {
   "cell_type": "markdown",
   "metadata": {},
   "source": [
    "Now suppose that we have made the observation and came out with:\n",
    "\n",
    "$D = \\{16\\}$.\n",
    "\n",
    "We then calculate the likelihood of each of the concepts in the hypothesis space with the formula:\n",
    "\n",
    "$p(D | h) = \\left[\\frac{1}{\\text{size}(h)}\\right]^N$.\n",
    "\n",
    "\n",
    "To calculate the likelihoods, we need the sizes of these sets."
   ]
  },
  {
   "cell_type": "code",
   "execution_count": 46,
   "metadata": {},
   "outputs": [],
   "source": [
    "observation = 16\n",
    "\n",
    "is_in_concept = []      ## this basically creates that I function\n",
    "\n",
    "for extension_of_concept in extensions:\n",
    "    if (observation in extension_of_concept):\n",
    "        is_in_concept.append(True)\n",
    "    else:\n",
    "        is_in_concept.append(False)"
   ]
  },
  {
   "cell_type": "code",
   "execution_count": 47,
   "metadata": {},
   "outputs": [],
   "source": [
    "sizes = []\n",
    "for extension_of_concept in extensions:\n",
    "    size = len(extension_of_concept)\n",
    "    sizes.append(size)"
   ]
  },
  {
   "cell_type": "markdown",
   "metadata": {},
   "source": [
    "Now finally calculate the **likelihood**:"
   ]
  },
  {
   "cell_type": "code",
   "execution_count": 48,
   "metadata": {},
   "outputs": [],
   "source": [
    "likelihood = list(np.array(is_in_concept) / np.array(sizes))"
   ]
  },
  {
   "cell_type": "code",
   "execution_count": 49,
   "metadata": {},
   "outputs": [
    {
     "data": {
      "text/plain": [
       "(array([0.  , 0.05, 0.1 , 0.15, 0.2 , 0.25, 0.3 ]),\n",
       " <a list of 7 Text yticklabel objects>)"
      ]
     },
     "execution_count": 49,
     "metadata": {},
     "output_type": "execute_result"
    },
    {
     "data": {
      "image/png": "[encoded data removed]",
      "text/plain": [
       "<Figure size 432x288 with 1 Axes>"
      ]
     },
     "metadata": {
      "needs_background": "light"
     },
     "output_type": "display_data"
    }
   ],
   "source": [
    "plt.bar(hypothesis_space,likelihood,color='blue')\n",
    "plt.xlabel('Concept',fontsize=16)\n",
    "plt.ylabel('Likelihood',fontsize=16)\n",
    "plt.xticks(rotation=90,fontsize=11)\n",
    "plt.yticks(fontsize=12)"
   ]
  },
  {
   "cell_type": "markdown",
   "metadata": {},
   "source": [
    "Now we can calculate the **posteriors**, which is simply the product of each likelihood and the corresponding prior, normalized."
   ]
  },
  {
   "cell_type": "code",
   "execution_count": 50,
   "metadata": {},
   "outputs": [],
   "source": [
    "posterior = np.multiply(np.array(likelihood),np.array(priors))\n",
    "norm = np.sum(np.array(posterior))\n",
    "posterior = np.divide(posterior, norm)\n",
    "posterior = list(posterior)"
   ]
  },
  {
   "cell_type": "code",
   "execution_count": 51,
   "metadata": {},
   "outputs": [
    {
     "data": {
      "text/plain": [
       "(array([0.  , 0.05, 0.1 , 0.15, 0.2 , 0.25, 0.3 , 0.35]),\n",
       " <a list of 8 Text yticklabel objects>)"
      ]
     },
     "execution_count": 51,
     "metadata": {},
     "output_type": "execute_result"
    },
    {
     "data": {
      "image/png": "[encoded data removed]",
      "text/plain": [
       "<Figure size 432x288 with 1 Axes>"
      ]
     },
     "metadata": {
      "needs_background": "light"
     },
     "output_type": "display_data"
    }
   ],
   "source": [
    "plt.bar(hypothesis_space,posterior,color='green')\n",
    "plt.xlabel('Concept',fontsize=16)\n",
    "plt.ylabel('Posterior probability',fontsize=16)\n",
    "plt.xticks(rotation=90,fontsize=11)\n",
    "plt.yticks(fontsize=12)"
   ]
  },
  {
   "cell_type": "markdown",
   "metadata": {},
   "source": [
    "There are a couple of things to notice here. First, we see that the concept that has the highest probability of being the right one after we make the observation $D = \\{16\\}$ is \"powers of 4\". This is a consequence of having substantial prior and likelihood at the same time. However, there other concepts, such as \"powers of 2\", that also have a good chance of being the right one. On the other hand, concepts such as \"powers of 2 - {32}\", which have large likelihood, are eliminated by our insight that this is likely not to be a very useful concept, which was enclosed in a zero prior. Now... this is all with just a single observation! What would happen if we make more observations, which corresponds to adding more elements to $D$?\n",
    "\n",
    "Let's say we have now $D = \\{16, 8, 2, 64\\}$, and let's just run everything again.\n",
    "Before that, let's write a short function that will tell us whether a list is a sublist of another list:"
   ]
  },
  {
   "cell_type": "code",
   "execution_count": 52,
   "metadata": {},
   "outputs": [],
   "source": [
    "def is_sublist(list1,list2):\n",
    "    return set(list1) <= set(list2)"
   ]
  },
  {
   "cell_type": "code",
   "execution_count": 53,
   "metadata": {},
   "outputs": [],
   "source": [
    "observation = [16, 8, 2, 64]\n",
    "\n",
    "is_in_concept = []      ## this basically creates that I function\n",
    "\n",
    "for extension_of_concept in extensions:\n",
    "        is_in_concept.append(is_sublist(observation,extension_of_concept))"
   ]
  },
  {
   "cell_type": "code",
   "execution_count": 54,
   "metadata": {},
   "outputs": [],
   "source": [
    "likelihood = list(np.array(is_in_concept) / (np.power(np.array(sizes),len(observation))))"
   ]
  },
  {
   "cell_type": "code",
   "execution_count": 55,
   "metadata": {},
   "outputs": [],
   "source": [
    "posterior = np.multiply(np.array(likelihood),np.array(priors))\n",
    "norm = np.sum(np.array(posterior))\n",
    "posterior = np.divide(posterior, norm)\n",
    "posterior = list(posterior)"
   ]
  },
  {
   "cell_type": "code",
   "execution_count": 56,
   "metadata": {},
   "outputs": [
    {
     "data": {
      "text/plain": [
       "(array([0.  , 0.02, 0.04, 0.06, 0.08, 0.1 , 0.12]),\n",
       " <a list of 7 Text yticklabel objects>)"
      ]
     },
     "execution_count": 56,
     "metadata": {},
     "output_type": "execute_result"
    },
    {
     "data": {
      "image/png": "[encoded data removed]",
      "text/plain": [
       "<Figure size 432x288 with 1 Axes>"
      ]
     },
     "metadata": {
      "needs_background": "light"
     },
     "output_type": "display_data"
    }
   ],
   "source": [
    "plt.bar(hypothesis_space,priors,color='red')\n",
    "plt.xlabel('Concept',fontsize=16)\n",
    "plt.ylabel('Prior probability',fontsize=16)\n",
    "plt.xticks(rotation=90,fontsize=11)\n",
    "plt.yticks(fontsize=12)"
   ]
  },
  {
   "cell_type": "code",
   "execution_count": 57,
   "metadata": {},
   "outputs": [
    {
     "data": {
      "text/plain": [
       "(array([0.    , 0.0001, 0.0002, 0.0003, 0.0004, 0.0005, 0.0006, 0.0007,\n",
       "        0.0008, 0.0009]), <a list of 10 Text yticklabel objects>)"
      ]
     },
     "execution_count": 57,
     "metadata": {},
     "output_type": "execute_result"
    },
    {
     "data": {
      "image/png": "[encoded data removed]",
      "text/plain": [
       "<Figure size 432x288 with 1 Axes>"
      ]
     },
     "metadata": {
      "needs_background": "light"
     },
     "output_type": "display_data"
    }
   ],
   "source": [
    "plt.bar(hypothesis_space,likelihood,color='blue')\n",
    "plt.xlabel('Concept',fontsize=16)\n",
    "plt.ylabel('Likelihood',fontsize=16)\n",
    "plt.xticks(rotation=90,fontsize=11)\n",
    "plt.yticks(fontsize=12)"
   ]
  },
  {
   "cell_type": "code",
   "execution_count": 58,
   "metadata": {},
   "outputs": [
    {
     "data": {
      "text/plain": [
       "(array([0. , 0.2, 0.4, 0.6, 0.8, 1. , 1.2]),\n",
       " <a list of 7 Text yticklabel objects>)"
      ]
     },
     "execution_count": 58,
     "metadata": {},
     "output_type": "execute_result"
    },
    {
     "data": {
      "image/png": "[encoded data removed]",
      "text/plain": [
       "<Figure size 432x288 with 1 Axes>"
      ]
     },
     "metadata": {
      "needs_background": "light"
     },
     "output_type": "display_data"
    }
   ],
   "source": [
    "plt.bar(hypothesis_space,posterior,color='green')\n",
    "plt.xlabel('Concept',fontsize=16)\n",
    "plt.ylabel('Posterior probability',fontsize=16)\n",
    "plt.xticks(rotation=90,fontsize=11)\n",
    "plt.yticks(fontsize=12)"
   ]
  },
  {
   "cell_type": "markdown",
   "metadata": {},
   "source": [
    "## Concluding remarks on learning\n",
    "\n",
    "\n",
    "We notice that the likelihoods are much more concentraded on concepts that relate to \"powers of 2\", which is expected from our observations $D = \\{16, 8, 2, 64\\}$. The *learner* then has a **eureka** moment, and finally figures out the correct concept: \"powers of 2\", which is demonstrated by a strong peaked posterior probability. Here it is important to notice the importance of having low priors to unnatural concepts: \"powers of 2 - {32}\" would be the concept learned if it wasn't for its low prior.\n",
    "In general, when there is enough data, or $D$ is large enough, we have\n",
    "\n",
    "$ p(h | D) \\to \\delta_{\\hat{h}^{MAP}}(h)$,\n",
    "\n",
    "where $\\hat{h}^{MAP} = argmax_h p(h|D)$ is the posterior mode and $\\delta$ is the Dirac measure. MAP stands for \"maximum posterior\". This estimate can also be written as:\n",
    "\n",
    "$ \\hat{h}^{MAP} = argmax_h p(D|h) p(h) = argmax_h[\\log p(D|h) + \\log p(h)]$.\n",
    "\n",
    "Now, recall that the likelihood term depends exponentially on the size of $D$, and the prior stays constant. Therefore, as we get more and more data, the MAP estimate converges to the **maximum likelihood estimate**, or MLE:\n",
    "\n",
    "$ \\hat{h}^{MLE} = argmax_h p(D|h) = argmax_h \\log p(D|h)$.\n",
    "\n",
    "In other words, when there is enough data, it overwhelms the prior.\n",
    "\n",
    "If the true hypothesis is in the hypothesis space, these estimates will converge to it. It is said that Bayesian inference is a consistent estimator. "
   ]
  },
  {
   "cell_type": "markdown",
   "metadata": {},
   "source": [
    "## Predictive distributions\n",
    "\n",
    "Let's get back to the case where we have $D = \\{16\\}$. We are going to use our posterior distribution to perform a Bayes model averaging that will tell us how likely it will be for the numbers in our interval of interest (0 to 100) to be observed in subsequent draws."
   ]
  },
  {
   "cell_type": "code",
   "execution_count": 59,
   "metadata": {},
   "outputs": [],
   "source": [
    "observation = 16\n",
    "\n",
    "is_in_concept = []      ## this basically creates that I function\n",
    "\n",
    "for extension_of_concept in extensions:\n",
    "    if (observation in extension_of_concept):\n",
    "        is_in_concept.append(True)\n",
    "    else:\n",
    "        is_in_concept.append(False)"
   ]
  },
  {
   "cell_type": "markdown",
   "metadata": {},
   "source": [
    "Recall that the **version space** consists of the hypotheses that are consisted with this observation:"
   ]
  },
  {
   "cell_type": "code",
   "execution_count": 75,
   "metadata": {},
   "outputs": [],
   "source": [
    "version_space = []\n",
    "valid_extensions = []\n",
    "valid_priors = []\n",
    "valid_sizes = []\n",
    "for index,logic in enumerate(is_in_concept):\n",
    "    if(logic):\n",
    "        version_space.append(hypothesis_space[index])\n",
    "        valid_extensions.append(extensions[index])\n",
    "        valid_priors.append(priors[index])\n",
    "        valid_sizes.append(len(extensions[index]))"
   ]
  },
  {
   "cell_type": "code",
   "execution_count": 79,
   "metadata": {},
   "outputs": [],
   "source": [
    "likelihood = list(np.divide(1,np.array(valid_sizes)))"
   ]
  },
  {
   "cell_type": "code",
   "execution_count": 81,
   "metadata": {},
   "outputs": [],
   "source": [
    "posterior = np.multiply(np.array(likelihood),np.array(valid_priors))\n",
    "norm = np.sum(np.array(posterior))\n",
    "posterior = np.divide(posterior, norm)\n",
    "posterior = list(posterior)"
   ]
  },
  {
   "cell_type": "code",
   "execution_count": 83,
   "metadata": {},
   "outputs": [],
   "source": [
    "predictive_distribution = []\n",
    "for number in interval_of_interest:\n",
    "    bayes_avg = 0.0\n",
    "    for index,extension in enumerate(valid_extensions):\n",
    "        if number in extension:\n",
    "            bayes_avg += posterior[index]\n",
    "    predictive_distribution.append(bayes_avg)"
   ]
  },
  {
   "cell_type": "code",
   "execution_count": 86,
   "metadata": {},
   "outputs": [
    {
     "data": {
      "text/plain": [
       "(array([0. , 0.2, 0.4, 0.6, 0.8, 1. , 1.2]),\n",
       " <a list of 7 Text yticklabel objects>)"
      ]
     },
     "execution_count": 86,
     "metadata": {},
     "output_type": "execute_result"
    },
    {
     "data": {
      "image/png": "[encoded data removed]",
      "text/plain": [
       "<Figure size 432x288 with 1 Axes>"
      ]
     },
     "metadata": {
      "needs_background": "light"
     },
     "output_type": "display_data"
    }
   ],
   "source": [
    "plt.bar(interval_of_interest,predictive_distribution,color='purple')\n",
    "plt.xlabel('Numbers',fontsize=16)\n",
    "plt.ylabel('Predictive distribution',fontsize=16)\n",
    "plt.xticks(rotation=90,fontsize=11)\n",
    "plt.yticks(fontsize=12)"
   ]
  },
  {
   "cell_type": "markdown",
   "metadata": {},
   "source": [
    "It is wonderful to see here that, indeed, the numbers 2, 4 and 64 are indeed strongly predicted by our model.\n",
    "\n",
    "\n",
    "I hope you have enjoyed this notebook. In the next lesson, we will discuss an abstraction of what we have seen here: the **beta-binomial model**."
   ]
  }
 ],
 "metadata": {
  "kernelspec": {
   "display_name": "Python 3",
   "language": "python",
   "name": "python3"
  },
  "language_info": {
   "codemirror_mode": {
    "name": "ipython",
    "version": 3
   },
   "file_extension": ".py",
   "mimetype": "text/x-python",
   "name": "python",
   "nbconvert_exporter": "python",
   "pygments_lexer": "ipython3",
   "version": "3.7.3"
  }
 },
 "nbformat": 4,
 "nbformat_minor": 2
}
